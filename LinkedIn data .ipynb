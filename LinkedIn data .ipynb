{
 "cells": [
  {
   "cell_type": "code",
   "execution_count": 1,
   "metadata": {
    "scrolled": true
   },
   "outputs": [],
   "source": [
    "from selenium import webdriver\n",
    "from selenium.webdriver.support.wait import WebDriverWait\n",
    "from selenium.webdriver.common.by import By\n",
    "from selenium.webdriver.support import expected_conditions as EC\n",
    "from bs4 import BeautifulSoup\n",
    "\n",
    "import time\n",
    "import re\n",
    "\n",
    "email=\"cbknpng@gmail.com\"\n",
    "password=\"cbk971102\"\n",
    "\n",
    "browser = webdriver.Chrome(r\"C:\\Users\\cbkke\\.wdm\\drivers\\chromedriver\\win32\\91.0.4472.101\\chromedriver.exe\")\n",
    "browser.get(\"https://www.linkedin.com/login\")\n",
    "\n",
    "elem = WebDriverWait(browser, 10).until(EC.presence_of_element_located((By.ID, \"username\")))\n",
    "\n",
    "\n",
    "email_elem = browser.find_element_by_id(\"username\")\n",
    "email_elem.send_keys(email)\n",
    "password_elem = browser.find_element_by_id(\"password\")\n",
    "password_elem.send_keys(password)\n",
    "password_elem.submit()\n",
    "#if browser.url == 'https://www.linkedin.com/checkpoint/lg/login-submit':\n",
    " #   rem = browser.find_element_by_id('remember-me-prompt__form-primary')\n",
    "  #  if rem:\n",
    "  #      rem.submit()\n",
    "elem = WebDriverWait(browser, 10).until(EC.presence_of_element_located((By.ID, \"global-nav-search\")))\n",
    "\n"
   ]
  },
  {
   "cell_type": "code",
   "execution_count": 2,
   "metadata": {},
   "outputs": [],
   "source": [
    "browser.get(\"https://www.linkedin.com/jobs/search/?keywords=data%20scientist&location=United%20States\")"
   ]
  },
  {
   "cell_type": "code",
   "execution_count": null,
   "metadata": {},
   "outputs": [],
   "source": [
    "browser.maximize_window()\n",
    "soup = BeautifulSoup(browser.page_source, 'lxml')\n",
    "\n",
    "for i in range(10):\n",
    "    browser.find_element_by_xpath(\"//button[@aria-label='Page {}']\".format(i+1)).click()\n",
    "    soup = BeautifulSoup(browser.page_source, 'lxml')\n",
    "    mylis = soup.findAll('li', {'class': 'jobs-search-results__list-item'})\n",
    "    print('page{}'.format(i))\n",
    "    \n",
    "    for li in mylis:\n",
    "        jobid = li['data-occludable-entity-urn'][-10:]\n",
    "        print(jobid)\n",
    "        browser.find_element_by_id(li['id']).click()\n",
    "        elem = WebDriverWait(browser, 10).until(EC.url_contains(jobid))\n",
    "        soup = BeautifulSoup(browser.page_source, 'lxml')\n",
    "        mydetail = soup.find('div',{'class': 'jobs-search__job-details--container'})\n",
    "        print(mydetail['aria-label'])\n",
    "        mydescript = mydetail.find('div',{'class':'jobs-box__html-content'})\n",
    "        myd = mydescript.find('span')\n",
    "       \n",
    "        print(myd.get_text())"
   ]
  },
  {
   "cell_type": "code",
   "execution_count": 3,
   "metadata": {},
   "outputs": [
    {
     "name": "stdout",
     "output_type": "stream",
     "text": [
      "page0\n",
      "https://www.linkedin.com/jobs/search/?currentJobId=2642010537&keywords=data%20scientist&location=United%20States\n",
      "Data Scientist\n",
      "https://www.linkedin.com/jobs/search/?currentJobId=2644233220&keywords=data%20scientist&location=United%20States\n",
      "Data Scientist\n",
      "https://www.linkedin.com/jobs/search/?currentJobId=2648316755&keywords=data%20scientist&location=United%20States\n",
      "Associate Data Scientist\n",
      "https://www.linkedin.com/jobs/search/?currentJobId=2641077839&keywords=data%20scientist&location=United%20States\n",
      "Data Scientist\n",
      "https://www.linkedin.com/jobs/search/?currentJobId=2650430487&keywords=data%20scientist&location=United%20States\n",
      "Data Scientist 3/Adaptive Intelligence\n",
      "https://www.linkedin.com/jobs/search/?currentJobId=2641001597&keywords=data%20scientist&location=United%20States\n",
      "Data Scientist, SPG\n",
      "https://www.linkedin.com/jobs/search/?currentJobId=2644263614&keywords=data%20scientist&location=United%20States\n",
      "Data Scientist\n",
      "https://www.linkedin.com/jobs/search/?currentJobId=2644262434&keywords=data%20scientist&location=United%20States\n",
      "Associate Data Scientist\n",
      "https://www.linkedin.com/jobs/search/?currentJobId=2641050471&keywords=data%20scientist&location=United%20States\n",
      "Data Scientist, Analytics (Remote)\n",
      "https://www.linkedin.com/jobs/search/?currentJobId=2641003931&keywords=data%20scientist&location=United%20States\n",
      "Data Scientist 1\n",
      "https://www.linkedin.com/jobs/search/?currentJobId=2650867587&keywords=data%20scientist&location=United%20States\n",
      "Data Scientist\n",
      "https://www.linkedin.com/jobs/search/?currentJobId=2647249863&keywords=data%20scientist&location=United%20States\n",
      "Data Scientist - Credit Risk\n",
      "https://www.linkedin.com/jobs/search/?currentJobId=2640334722&keywords=data%20scientist&location=United%20States\n",
      "Senior Data Scientist\n",
      "https://www.linkedin.com/jobs/search/?currentJobId=2638877073&keywords=data%20scientist&location=United%20States\n",
      "Biomedical Informatics Data Scientist\n",
      "https://www.linkedin.com/jobs/search/?currentJobId=2644884209&keywords=data%20scientist&location=United%20States\n",
      "Data Scientist, Clinical Decision Support Solutions, Remote\n",
      "https://www.linkedin.com/jobs/search/?currentJobId=2650855186&keywords=data%20scientist&location=United%20States\n",
      "Data Scientist\n",
      "https://www.linkedin.com/jobs/search/?currentJobId=2641022113&keywords=data%20scientist&location=United%20States\n",
      "Data Scientist - Business Management- 102221\n",
      "https://www.linkedin.com/jobs/search/?currentJobId=2644867944&keywords=data%20scientist&location=United%20States\n",
      "Data Scientist\n",
      "https://www.linkedin.com/jobs/search/?currentJobId=2640373279&keywords=data%20scientist&location=United%20States\n",
      "Data Scientist - Economic Research\n",
      "https://www.linkedin.com/jobs/search/?currentJobId=2640339345&keywords=data%20scientist&location=United%20States\n",
      "Associate Data Scientist\n",
      "https://www.linkedin.com/jobs/search/?currentJobId=2650898688&keywords=data%20scientist&location=United%20States\n",
      "Associate Data Scientist\n",
      "https://www.linkedin.com/jobs/search/?currentJobId=2641054275&keywords=data%20scientist&location=United%20States\n",
      "Risk Data Scientist\n",
      "https://www.linkedin.com/jobs/search/?currentJobId=2638866520&keywords=data%20scientist&location=United%20States\n",
      "Product Data Scientist, Camera\n",
      "https://www.linkedin.com/jobs/search/?currentJobId=2639209637&keywords=data%20scientist&location=United%20States\n",
      "Associate Data Scientist\n",
      "https://www.linkedin.com/jobs/search/?currentJobId=2638851729&keywords=data%20scientist&location=United%20States\n",
      "Data Scientist, Laboratory Operations\n",
      "page 0 complete\n",
      "page1\n",
      "page 1 complete\n"
     ]
    },
    {
     "ename": "WebDriverException",
     "evalue": "Message: chrome not reachable\n  (Session info: chrome=91.0.4472.124)\n",
     "output_type": "error",
     "traceback": [
      "\u001b[1;31m---------------------------------------------------------------------------\u001b[0m",
      "\u001b[1;31mWebDriverException\u001b[0m                        Traceback (most recent call last)",
      "\u001b[1;32m<ipython-input-3-6e14a95ff6bd>\u001b[0m in \u001b[0;36m<module>\u001b[1;34m\u001b[0m\n\u001b[0;32m     23\u001b[0m \u001b[1;31m#     output_file.write('page {} complete\\n'.format(i))\u001b[0m\u001b[1;33m\u001b[0m\u001b[1;33m\u001b[0m\u001b[1;33m\u001b[0m\u001b[0m\n\u001b[0;32m     24\u001b[0m     \u001b[0mtime\u001b[0m\u001b[1;33m.\u001b[0m\u001b[0msleep\u001b[0m\u001b[1;33m(\u001b[0m\u001b[1;36m10\u001b[0m\u001b[1;33m)\u001b[0m\u001b[1;33m\u001b[0m\u001b[1;33m\u001b[0m\u001b[0m\n\u001b[1;32m---> 25\u001b[1;33m     \u001b[0mbrowser\u001b[0m\u001b[1;33m.\u001b[0m\u001b[0mget\u001b[0m\u001b[1;33m(\u001b[0m\u001b[1;34m\"https://www.linkedin.com/jobs/search/?keywords=data%20scientist&location=United%20States&start={}\"\u001b[0m\u001b[1;33m.\u001b[0m\u001b[0mformat\u001b[0m\u001b[1;33m(\u001b[0m\u001b[1;33m(\u001b[0m\u001b[0mi\u001b[0m\u001b[1;33m+\u001b[0m\u001b[1;36m1\u001b[0m\u001b[1;33m)\u001b[0m\u001b[1;33m*\u001b[0m\u001b[1;36m25\u001b[0m\u001b[1;33m)\u001b[0m\u001b[1;33m)\u001b[0m\u001b[1;33m\u001b[0m\u001b[1;33m\u001b[0m\u001b[0m\n\u001b[0m\u001b[0;32m     26\u001b[0m     \u001b[0melem\u001b[0m \u001b[1;33m=\u001b[0m \u001b[0mWebDriverWait\u001b[0m\u001b[1;33m(\u001b[0m\u001b[0mbrowser\u001b[0m\u001b[1;33m,\u001b[0m \u001b[1;36m10\u001b[0m\u001b[1;33m)\u001b[0m\u001b[1;33m.\u001b[0m\u001b[0muntil\u001b[0m\u001b[1;33m(\u001b[0m\u001b[0mEC\u001b[0m\u001b[1;33m.\u001b[0m\u001b[0murl_contains\u001b[0m\u001b[1;33m(\u001b[0m\u001b[1;34m\"={}\"\u001b[0m\u001b[1;33m.\u001b[0m\u001b[0mformat\u001b[0m\u001b[1;33m(\u001b[0m\u001b[1;33m(\u001b[0m\u001b[0mi\u001b[0m\u001b[1;33m+\u001b[0m\u001b[1;36m1\u001b[0m\u001b[1;33m)\u001b[0m\u001b[1;33m*\u001b[0m\u001b[1;36m25\u001b[0m\u001b[1;33m)\u001b[0m\u001b[1;33m)\u001b[0m\u001b[1;33m)\u001b[0m\u001b[1;33m\u001b[0m\u001b[1;33m\u001b[0m\u001b[0m\n\u001b[0;32m     27\u001b[0m \u001b[1;31m#     time.sleep(10)\u001b[0m\u001b[1;33m\u001b[0m\u001b[1;33m\u001b[0m\u001b[1;33m\u001b[0m\u001b[0m\n",
      "\u001b[1;32m~\\anaconda3\\lib\\site-packages\\selenium\\webdriver\\remote\\webdriver.py\u001b[0m in \u001b[0;36mget\u001b[1;34m(self, url)\u001b[0m\n\u001b[0;32m    331\u001b[0m         \u001b[0mLoads\u001b[0m \u001b[0ma\u001b[0m \u001b[0mweb\u001b[0m \u001b[0mpage\u001b[0m \u001b[1;32min\u001b[0m \u001b[0mthe\u001b[0m \u001b[0mcurrent\u001b[0m \u001b[0mbrowser\u001b[0m \u001b[0msession\u001b[0m\u001b[1;33m.\u001b[0m\u001b[1;33m\u001b[0m\u001b[1;33m\u001b[0m\u001b[0m\n\u001b[0;32m    332\u001b[0m         \"\"\"\n\u001b[1;32m--> 333\u001b[1;33m         \u001b[0mself\u001b[0m\u001b[1;33m.\u001b[0m\u001b[0mexecute\u001b[0m\u001b[1;33m(\u001b[0m\u001b[0mCommand\u001b[0m\u001b[1;33m.\u001b[0m\u001b[0mGET\u001b[0m\u001b[1;33m,\u001b[0m \u001b[1;33m{\u001b[0m\u001b[1;34m'url'\u001b[0m\u001b[1;33m:\u001b[0m \u001b[0murl\u001b[0m\u001b[1;33m}\u001b[0m\u001b[1;33m)\u001b[0m\u001b[1;33m\u001b[0m\u001b[1;33m\u001b[0m\u001b[0m\n\u001b[0m\u001b[0;32m    334\u001b[0m \u001b[1;33m\u001b[0m\u001b[0m\n\u001b[0;32m    335\u001b[0m     \u001b[1;33m@\u001b[0m\u001b[0mproperty\u001b[0m\u001b[1;33m\u001b[0m\u001b[1;33m\u001b[0m\u001b[0m\n",
      "\u001b[1;32m~\\anaconda3\\lib\\site-packages\\selenium\\webdriver\\remote\\webdriver.py\u001b[0m in \u001b[0;36mexecute\u001b[1;34m(self, driver_command, params)\u001b[0m\n\u001b[0;32m    319\u001b[0m         \u001b[0mresponse\u001b[0m \u001b[1;33m=\u001b[0m \u001b[0mself\u001b[0m\u001b[1;33m.\u001b[0m\u001b[0mcommand_executor\u001b[0m\u001b[1;33m.\u001b[0m\u001b[0mexecute\u001b[0m\u001b[1;33m(\u001b[0m\u001b[0mdriver_command\u001b[0m\u001b[1;33m,\u001b[0m \u001b[0mparams\u001b[0m\u001b[1;33m)\u001b[0m\u001b[1;33m\u001b[0m\u001b[1;33m\u001b[0m\u001b[0m\n\u001b[0;32m    320\u001b[0m         \u001b[1;32mif\u001b[0m \u001b[0mresponse\u001b[0m\u001b[1;33m:\u001b[0m\u001b[1;33m\u001b[0m\u001b[1;33m\u001b[0m\u001b[0m\n\u001b[1;32m--> 321\u001b[1;33m             \u001b[0mself\u001b[0m\u001b[1;33m.\u001b[0m\u001b[0merror_handler\u001b[0m\u001b[1;33m.\u001b[0m\u001b[0mcheck_response\u001b[0m\u001b[1;33m(\u001b[0m\u001b[0mresponse\u001b[0m\u001b[1;33m)\u001b[0m\u001b[1;33m\u001b[0m\u001b[1;33m\u001b[0m\u001b[0m\n\u001b[0m\u001b[0;32m    322\u001b[0m             response['value'] = self._unwrap_value(\n\u001b[0;32m    323\u001b[0m                 response.get('value', None))\n",
      "\u001b[1;32m~\\anaconda3\\lib\\site-packages\\selenium\\webdriver\\remote\\errorhandler.py\u001b[0m in \u001b[0;36mcheck_response\u001b[1;34m(self, response)\u001b[0m\n\u001b[0;32m    240\u001b[0m                 \u001b[0malert_text\u001b[0m \u001b[1;33m=\u001b[0m \u001b[0mvalue\u001b[0m\u001b[1;33m[\u001b[0m\u001b[1;34m'alert'\u001b[0m\u001b[1;33m]\u001b[0m\u001b[1;33m.\u001b[0m\u001b[0mget\u001b[0m\u001b[1;33m(\u001b[0m\u001b[1;34m'text'\u001b[0m\u001b[1;33m)\u001b[0m\u001b[1;33m\u001b[0m\u001b[1;33m\u001b[0m\u001b[0m\n\u001b[0;32m    241\u001b[0m             \u001b[1;32mraise\u001b[0m \u001b[0mexception_class\u001b[0m\u001b[1;33m(\u001b[0m\u001b[0mmessage\u001b[0m\u001b[1;33m,\u001b[0m \u001b[0mscreen\u001b[0m\u001b[1;33m,\u001b[0m \u001b[0mstacktrace\u001b[0m\u001b[1;33m,\u001b[0m \u001b[0malert_text\u001b[0m\u001b[1;33m)\u001b[0m\u001b[1;33m\u001b[0m\u001b[1;33m\u001b[0m\u001b[0m\n\u001b[1;32m--> 242\u001b[1;33m         \u001b[1;32mraise\u001b[0m \u001b[0mexception_class\u001b[0m\u001b[1;33m(\u001b[0m\u001b[0mmessage\u001b[0m\u001b[1;33m,\u001b[0m \u001b[0mscreen\u001b[0m\u001b[1;33m,\u001b[0m \u001b[0mstacktrace\u001b[0m\u001b[1;33m)\u001b[0m\u001b[1;33m\u001b[0m\u001b[1;33m\u001b[0m\u001b[0m\n\u001b[0m\u001b[0;32m    243\u001b[0m \u001b[1;33m\u001b[0m\u001b[0m\n\u001b[0;32m    244\u001b[0m     \u001b[1;32mdef\u001b[0m \u001b[0m_value_or_default\u001b[0m\u001b[1;33m(\u001b[0m\u001b[0mself\u001b[0m\u001b[1;33m,\u001b[0m \u001b[0mobj\u001b[0m\u001b[1;33m,\u001b[0m \u001b[0mkey\u001b[0m\u001b[1;33m,\u001b[0m \u001b[0mdefault\u001b[0m\u001b[1;33m)\u001b[0m\u001b[1;33m:\u001b[0m\u001b[1;33m\u001b[0m\u001b[1;33m\u001b[0m\u001b[0m\n",
      "\u001b[1;31mWebDriverException\u001b[0m: Message: chrome not reachable\n  (Session info: chrome=91.0.4472.124)\n"
     ]
    }
   ],
   "source": [
    "browser.maximize_window()\n",
    "for i in range(10):\n",
    "#     browser.find_element_by_xpath(\"//button[@aria-label='第 {} 页']\".format(i+1)).click()\n",
    "    soup = BeautifulSoup(browser.page_source, 'lxml')\n",
    "    print('page{}'.format(i))\n",
    "#     output_file.write('page{}\\n'.format(i))\n",
    "    mylis = soup.findAll('li', {'class': 'jobs-search-results__list-item'})\n",
    "    \n",
    "    for li in mylis:\n",
    "        jobid = li['data-occludable-entity-urn'][-10:]\n",
    "#         output_file.writelines(jobid)\n",
    "        browser.find_element_by_id(li['id']).click()\n",
    "        print(browser.current_url)\n",
    "        elem = WebDriverWait(browser, 10).until(EC.url_contains(jobid))\n",
    "        soup = BeautifulSoup(browser.page_source, 'lxml')\n",
    "        mydetail = soup.find('div',{'class': 'jobs-search__job-details--container'})\n",
    "        print(mydetail['aria-label'])\n",
    "#         output_file.write(mydetail['aria-label'])\n",
    "        mydescript = mydetail.find('div',{'class':'jobs-description__content'})\n",
    "        #print(mydescript.get_text())\n",
    "    \n",
    "    print('page {} complete'.format(i))\n",
    "#     output_file.write('page {} complete\\n'.format(i))\n",
    "    time.sleep(10)\n",
    "    browser.get(\"https://www.linkedin.com/jobs/search/?keywords=data%20scientist&location=United%20States&start={}\".format((i+1)*25))\n",
    "    elem = WebDriverWait(browser, 10).until(EC.url_contains(\"={}\".format((i+1)*25)))\n",
    "#     time.sleep(10)"
   ]
  },
  {
   "cell_type": "code",
   "execution_count": null,
   "metadata": {},
   "outputs": [],
   "source": []
  }
 ],
 "metadata": {
  "kernelspec": {
   "display_name": "Python 3",
   "language": "python",
   "name": "python3"
  },
  "language_info": {
   "codemirror_mode": {
    "name": "ipython",
    "version": 3
   },
   "file_extension": ".py",
   "mimetype": "text/x-python",
   "name": "python",
   "nbconvert_exporter": "python",
   "pygments_lexer": "ipython3",
   "version": "3.7.6"
  }
 },
 "nbformat": 4,
 "nbformat_minor": 4
}
